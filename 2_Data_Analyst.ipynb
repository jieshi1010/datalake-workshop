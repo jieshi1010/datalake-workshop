{
 "cells": [
  {
   "cell_type": "markdown",
   "metadata": {
    "id": "WYJPIMozU1QV"
   },
   "source": [
    "## 2. Data Analyst - Run SQL on tables and plot data"
   ]
  },
  {
   "cell_type": "code",
   "execution_count": null,
   "metadata": {},
   "outputs": [],
   "source": [
    "from google.cloud import bigquery\n",
    "import json\n",
    "\n",
    "client = bigquery.Client()"
   ]
  },
  {
   "cell_type": "code",
   "execution_count": null,
   "metadata": {},
   "outputs": [],
   "source": [
    "project_id = !gcloud config list --format 'value(core.project)' 2>/dev/null \n",
    "dataset_name = project_id[0] + '-raw'\n",
    "dataset_name = dataset_name.replace('-', '_')\n",
    "table_path = \"`\" + project_id[0] + '.' + dataset_name + '.transaction_data_train`' \n",
    "table_path"
   ]
  },
  {
   "cell_type": "markdown",
   "metadata": {},
   "source": [
    "**TODO**\n",
    "* Substitute **table_path** in the FROM clauses below"
   ]
  },
  {
   "cell_type": "markdown",
   "metadata": {},
   "source": [
    "#### Use Ipython magics to query BQ"
   ]
  },
  {
   "cell_type": "markdown",
   "metadata": {},
   "source": [
    "* Learn more about Ipython magics for BigQuery [[here]](https://googleapis.dev/python/bigquery/latest/magics.html)"
   ]
  },
  {
   "cell_type": "code",
   "execution_count": null,
   "metadata": {},
   "outputs": [],
   "source": [
    "%%bigquery \n",
    "SELECT \n",
    "    isFraud,\n",
    "    COUNT(*) as count\n",
    "FROM <table_path>\n",
    "GROUP BY isFraud"
   ]
  },
  {
   "cell_type": "code",
   "execution_count": null,
   "metadata": {},
   "outputs": [],
   "source": [
    "%%bigquery\n",
    "SELECT \n",
    "    type,\n",
    "    COUNT(*) as Transactions,\n",
    "    AVG(amount) as Average_amount\n",
    "FROM <table_path>\n",
    "GROUP BY type"
   ]
  },
  {
   "cell_type": "code",
   "execution_count": null,
   "metadata": {},
   "outputs": [],
   "source": [
    "%%bigquery\n",
    "SELECT \n",
    "    type, \n",
    "    SUM(amount) as total_amount\n",
    "FROM <table_path>\n",
    "GROUP BY type"
   ]
  },
  {
   "cell_type": "markdown",
   "metadata": {
    "id": "1CKY3Z8MU1QV"
   },
   "source": [
    "#### Use Spark to query BQ table \n",
    "\n",
    "Enable Apache Arrow to allow faster conversion from Spark DataFrame to Pandas DataFrame [[doc]](https://spark.apache.org/docs/latest/sql-pyspark-pandas-with-arrow.html)"
   ]
  },
  {
   "cell_type": "code",
   "execution_count": null,
   "metadata": {},
   "outputs": [],
   "source": [
    "sql = f\"\"\"\n",
    "SELECT \n",
    "    type,\n",
    "    COUNT(*) as Transactions,\n",
    "    AVG(amount) as Average_amount\n",
    "FROM {table_path}\n",
    "GROUP BY type\n",
    "\"\"\""
   ]
  },
  {
   "cell_type": "code",
   "execution_count": null,
   "metadata": {},
   "outputs": [],
   "source": [
    "df_transaction_data_train = client.query(sql).to_dataframe()"
   ]
  },
  {
   "cell_type": "code",
   "execution_count": null,
   "metadata": {},
   "outputs": [],
   "source": [
    "type(df_transaction_data_train)"
   ]
  },
  {
   "cell_type": "code",
   "execution_count": null,
   "metadata": {},
   "outputs": [],
   "source": [
    "df_transaction_data_train.head()"
   ]
  },
  {
   "cell_type": "markdown",
   "metadata": {
    "id": "COb6a1XTU1QW"
   },
   "source": [
    "### Plot data "
   ]
  },
  {
   "cell_type": "code",
   "execution_count": null,
   "metadata": {
    "id": "x01_SPT9U1QW"
   },
   "outputs": [],
   "source": [
    "import matplotlib.pyplot as plt"
   ]
  },
  {
   "cell_type": "code",
   "execution_count": null,
   "metadata": {},
   "outputs": [],
   "source": [
    "df_transaction_data_train.plot.bar(x='type', y='Average_amount', rot=90)"
   ]
  },
  {
   "cell_type": "code",
   "execution_count": null,
   "metadata": {
    "id": "fyJvPdghU1QW",
    "outputId": "47256998-e8b7-4c73-c444-54a3e894ff19"
   },
   "outputs": [],
   "source": [
    "df_transaction_data_train.set_index('type', inplace=True)\n",
    "df_transaction_data_train.head()"
   ]
  },
  {
   "cell_type": "code",
   "execution_count": null,
   "metadata": {
    "id": "QAm2dHX0U1QX",
    "outputId": "8f9d03e8-c420-4aae-a75c-fdd3fc0a6deb"
   },
   "outputs": [],
   "source": [
    "df_transaction_data_train.plot.bar(rot=90, subplots=True)"
   ]
  }
 ],
 "metadata": {
  "colab": {
   "name": "test-1.ipynb",
   "provenance": []
  },
  "kernelspec": {
   "display_name": "PySpark",
   "language": "python",
   "name": "pyspark"
  },
  "language_info": {
   "codemirror_mode": {
    "name": "ipython",
    "version": 3
   },
   "file_extension": ".py",
   "mimetype": "text/x-python",
   "name": "python",
   "nbconvert_exporter": "python",
   "pygments_lexer": "ipython3",
   "version": "3.8.6"
  }
 },
 "nbformat": 4,
 "nbformat_minor": 4
}
